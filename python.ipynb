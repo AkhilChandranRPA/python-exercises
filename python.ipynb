{
  "metadata": {
    "kernelspec": {
      "name": "python",
      "display_name": "Python (Pyodide)",
      "language": "python"
    },
    "language_info": {
      "codemirror_mode": {
        "name": "python",
        "version": 3
      },
      "file_extension": ".py",
      "mimetype": "text/x-python",
      "name": "python",
      "nbconvert_exporter": "python",
      "pygments_lexer": "ipython3",
      "version": "3.8"
    }
  },
  "nbformat_minor": 4,
  "nbformat": 4,
  "cells": [
    {
      "cell_type": "markdown",
      "source": "# Print a String",
      "metadata": {},
      "attachments": {}
    },
    {
      "cell_type": "code",
      "source": "print(\"Hello !\");",
      "metadata": {
        "trusted": true
      },
      "outputs": [
        {
          "name": "stdout",
          "text": "Hello !\n",
          "output_type": "stream"
        }
      ],
      "execution_count": 1
    },
    {
      "cell_type": "markdown",
      "source": "# Use of indentation",
      "metadata": {},
      "attachments": {}
    },
    {
      "cell_type": "code",
      "source": "x=1\nif (x == 1):\n    print (x);",
      "metadata": {
        "trusted": true
      },
      "outputs": [
        {
          "name": "stdout",
          "text": "1\n",
          "output_type": "stream"
        }
      ],
      "execution_count": 10
    },
    {
      "cell_type": "markdown",
      "source": "# Use of integer",
      "metadata": {}
    },
    {
      "cell_type": "code",
      "source": "myInt = 7;\nprint(myInt);",
      "metadata": {
        "trusted": true
      },
      "outputs": [
        {
          "name": "stdout",
          "text": "7\n",
          "output_type": "stream"
        }
      ],
      "execution_count": 11
    },
    {
      "cell_type": "markdown",
      "source": "# Use of float",
      "metadata": {}
    },
    {
      "cell_type": "code",
      "source": "myFloat = 7.0;\nprint(myFloat);",
      "metadata": {
        "trusted": true
      },
      "outputs": [
        {
          "name": "stdout",
          "text": "7.0\n",
          "output_type": "stream"
        }
      ],
      "execution_count": 12
    },
    {
      "cell_type": "code",
      "source": "myFloat = float(7);\nprint(myFloat);",
      "metadata": {
        "trusted": true
      },
      "outputs": [
        {
          "name": "stdout",
          "text": "7.0\n",
          "output_type": "stream"
        }
      ],
      "execution_count": 13
    },
    {
      "cell_type": "markdown",
      "source": "# Use of String",
      "metadata": {}
    },
    {
      "cell_type": "code",
      "source": "myString = \"Hello\";\nprint(myString);",
      "metadata": {
        "trusted": true
      },
      "outputs": [
        {
          "name": "stdout",
          "text": "Hello\n",
          "output_type": "stream"
        }
      ],
      "execution_count": 14
    },
    {
      "cell_type": "code",
      "source": "myString = 'Hello';\nprint(myString);",
      "metadata": {
        "trusted": true
      },
      "outputs": [
        {
          "name": "stdout",
          "text": "Hello\n",
          "output_type": "stream"
        }
      ],
      "execution_count": 15
    },
    {
      "cell_type": "code",
      "source": "myString = \"Hello, I am Akhil Chandran\";\nprint(myString);",
      "metadata": {
        "trusted": true
      },
      "outputs": [
        {
          "name": "stdout",
          "text": "Hello, I am Akhil Chandran\n",
          "output_type": "stream"
        }
      ],
      "execution_count": 16
    },
    {
      "cell_type": "markdown",
      "source": "# Use of Simple operations (string and numbers)",
      "metadata": {}
    },
    {
      "cell_type": "code",
      "source": "one = 1;\ntwo = 2;\nthree = one + two;\nprint(three);",
      "metadata": {
        "trusted": true
      },
      "outputs": [
        {
          "name": "stdout",
          "text": "3\n",
          "output_type": "stream"
        }
      ],
      "execution_count": 17
    },
    {
      "cell_type": "code",
      "source": "hello = \"hello\";\nworld = \"world\";\nhelloWorld = hello + \" \" + world;\nprint(helloWorld);",
      "metadata": {
        "trusted": true
      },
      "outputs": [
        {
          "name": "stdout",
          "text": "hello world\n",
          "output_type": "stream"
        }
      ],
      "execution_count": 18
    },
    {
      "cell_type": "markdown",
      "source": "# assigning value in multiple variables in a single line.",
      "metadata": {}
    },
    {
      "cell_type": "code",
      "source": "a, b = 3, 4;\nprint(a, b);",
      "metadata": {
        "trusted": true
      },
      "outputs": [
        {
          "name": "stdout",
          "text": "3 4\n",
          "output_type": "stream"
        }
      ],
      "execution_count": 19
    },
    {
      "cell_type": "markdown",
      "source": "## Exercise",
      "metadata": {}
    },
    {
      "cell_type": "code",
      "source": "myString = \"hello\"\nmyFloat = 10.0\nmyInt = 20\n\nif myString == \"hello\":\n    print(\"String: %s\" % myString)\nif isinstance(myFloat, float) and myFloat == 10.0:\n    print(\"Float: %f\" % myFloat)\nif isinstance(myInt, int) and myInt == 20:\n    print(\"Integer: %d\" % myInt)",
      "metadata": {
        "trusted": true
      },
      "outputs": [
        {
          "name": "stdout",
          "text": "String: hello\nFloat: 10.000000\nInteger: 20\n",
          "output_type": "stream"
        }
      ],
      "execution_count": 25
    },
    {
      "cell_type": "markdown",
      "source": "# List",
      "metadata": {}
    },
    {
      "cell_type": "code",
      "source": "myList = [];\nmyList.append(1);\nmyList.append(2);\nmyList.append(3);\nprint(myList[0]);\nprint(myList[1]);\nprint(myList[2]);\n\nfor x in myList:\n    print(x);",
      "metadata": {
        "trusted": true
      },
      "outputs": [
        {
          "name": "stdout",
          "text": "1\n2\n3\n1\n2\n3\n",
          "output_type": "stream"
        }
      ],
      "execution_count": 27
    },
    {
      "cell_type": "markdown",
      "source": "## Exercise",
      "metadata": {}
    },
    {
      "cell_type": "code",
      "source": "numbers = [];\nstrings = [];\nnames = [\"John\", \"Eric\", \"Jessica\"];\n\nnumbers.append(1);\nnumbers.append(2);\nnumbers.append(3);\n\nstrings.append(\"hello\");\nstrings.append(\"world\");\n\nsecond_name = names[1];\n\nprint(numbers);\nprint(strings);\nprint(\"The second name on the names list is %s\" % second_name);",
      "metadata": {
        "trusted": true
      },
      "outputs": [
        {
          "name": "stdout",
          "text": "[1, 2, 3]\n['hello', 'world']\nThe second name on the names list is Eric\n",
          "output_type": "stream"
        }
      ],
      "execution_count": 29
    },
    {
      "cell_type": "markdown",
      "source": "# Basic Operations",
      "metadata": {}
    },
    {
      "cell_type": "markdown",
      "source": "# Arithmetic Operators",
      "metadata": {}
    },
    {
      "cell_type": "markdown",
      "source": "#### addition, subtraction, multiplication, and division operators ",
      "metadata": {}
    },
    {
      "cell_type": "code",
      "source": "number = 1 + 2 * 3 / 4.0;\nprint(number);",
      "metadata": {
        "trusted": true
      },
      "outputs": [
        {
          "name": "stdout",
          "text": "2.5\n",
          "output_type": "stream"
        }
      ],
      "execution_count": 30
    },
    {
      "cell_type": "markdown",
      "source": "#### modulo (%) operator",
      "metadata": {}
    },
    {
      "cell_type": "code",
      "source": "remainder = 11 % 3;\nprint(remainder);",
      "metadata": {
        "trusted": true
      },
      "outputs": [
        {
          "name": "stdout",
          "text": "2\n",
          "output_type": "stream"
        }
      ],
      "execution_count": 32
    },
    {
      "cell_type": "markdown",
      "source": "#### Using two multiplication symbols makes a power relationship.",
      "metadata": {}
    },
    {
      "cell_type": "code",
      "source": "squared = 7 ** 2;\ncubed = 2 ** 3;\nprint(squared);\nprint(cubed);",
      "metadata": {
        "trusted": true
      },
      "outputs": [
        {
          "name": "stdout",
          "text": "49\n8\n",
          "output_type": "stream"
        }
      ],
      "execution_count": 33
    },
    {
      "cell_type": "markdown",
      "source": "# Using Operators with Strings",
      "metadata": {}
    },
    {
      "cell_type": "markdown",
      "source": "### concatenating strings ",
      "metadata": {}
    },
    {
      "cell_type": "code",
      "source": "helloWorld = \"hello\" + \" \" + \"world\";\nprint(helloWorld);",
      "metadata": {
        "trusted": true
      },
      "outputs": [
        {
          "name": "stdout",
          "text": "hello world\n",
          "output_type": "stream"
        }
      ],
      "execution_count": 34
    },
    {
      "cell_type": "markdown",
      "source": "### multiplying strings ",
      "metadata": {}
    },
    {
      "cell_type": "code",
      "source": "lotsOfHellos = \"hello\" * 10;\nprint(lotsOfHellos);",
      "metadata": {
        "trusted": true
      },
      "outputs": [
        {
          "name": "stdout",
          "text": "hellohellohellohellohellohellohellohellohellohello\n",
          "output_type": "stream"
        }
      ],
      "execution_count": 35
    },
    {
      "cell_type": "markdown",
      "source": "# Using Operators with Lists",
      "metadata": {}
    },
    {
      "cell_type": "markdown",
      "source": "### Lists joining with addition operator",
      "metadata": {}
    },
    {
      "cell_type": "code",
      "source": "even_numbers = [2, 4, 6, 8];\nodd_numbers = [1, 3, 5, 7];\nall_numbers = odd_numbers + even_numbers;\nprint(all_numbers);",
      "metadata": {
        "trusted": true
      },
      "outputs": [
        {
          "name": "stdout",
          "text": "[1, 3, 5, 7, 2, 4, 6, 8]\n",
          "output_type": "stream"
        }
      ],
      "execution_count": 37
    },
    {
      "cell_type": "markdown",
      "source": "### forming new lists with a repeating sequence ",
      "metadata": {}
    },
    {
      "cell_type": "code",
      "source": "print([1, 2, 3] * 3);",
      "metadata": {
        "trusted": true
      },
      "outputs": [
        {
          "name": "stdout",
          "text": "[1, 2, 3, 1, 2, 3, 1, 2, 3]\n",
          "output_type": "stream"
        }
      ],
      "execution_count": 38
    },
    {
      "cell_type": "markdown",
      "source": "## Exercise",
      "metadata": {}
    },
    {
      "cell_type": "code",
      "source": "x = object();\ny = object();\n\nx_list = [x] * 10;\ny_list = [y] * 10;\nbig_list = x_list + y_list;\n\nprint(\"x_list contains %d objects\" % len(x_list));\nprint(\"y_list contains %d objects\" % len(y_list));\nprint(\"big_list contains %d objects\" % len(big_list));\n\nif x_list.count(x) == 10 and y_list.count(y) == 10:\n    print(\"Almost there...\");\nif big_list.count(x) == 10 and big_list.count(y) == 10:\n    print(\"Great\");\n",
      "metadata": {
        "trusted": true
      },
      "outputs": [
        {
          "name": "stdout",
          "text": "x_list contains 10 objects\ny_list contains 10 objects\nbig_list contains 20 objects\nAlmost there...\nGreat\n",
          "output_type": "stream"
        }
      ],
      "execution_count": 46
    },
    {
      "cell_type": "markdown",
      "source": "# String Formatting",
      "metadata": {}
    },
    {
      "cell_type": "code",
      "source": "name = \"John\";\nprint(\"Hello, %s!\" % name);",
      "metadata": {
        "trusted": true
      },
      "outputs": [
        {
          "name": "stdout",
          "text": "Hello, John!\n",
          "output_type": "stream"
        }
      ],
      "execution_count": 47
    },
    {
      "cell_type": "markdown",
      "source": "### use two or more argument specifiers, use a tuple (parentheses)",
      "metadata": {}
    },
    {
      "cell_type": "code",
      "source": "name = \"John\";\nage = 23;\nprint(\"%s is %d years old.\" % (name, age));",
      "metadata": {
        "trusted": true
      },
      "outputs": [
        {
          "name": "stdout",
          "text": "John is 23 years old.\n",
          "output_type": "stream"
        }
      ],
      "execution_count": 48
    },
    {
      "cell_type": "markdown",
      "source": "#### object which is not a string can be formatted using the %s operator ",
      "metadata": {}
    },
    {
      "cell_type": "code",
      "source": "myList = [1, 2, 3];\nprint(\"A list: %s\" % myList);",
      "metadata": {
        "trusted": true
      },
      "outputs": [
        {
          "name": "stdout",
          "text": "A list: [1, 2, 3]\n",
          "output_type": "stream"
        }
      ],
      "execution_count": 49
    },
    {
      "cell_type": "markdown",
      "source": "## Exercise",
      "metadata": {}
    },
    {
      "cell_type": "code",
      "source": "data = [\"John\", \"Doe\", 53.44]\nformat_string = \"Hello %s %s. Your current balance is $%.2f.\"\n\nprint(format_string % (data[0], data[1], data[2]))\n",
      "metadata": {
        "trusted": true
      },
      "outputs": [
        {
          "name": "stdout",
          "text": "Hello John Doe. Your current balance is $53.44.\n",
          "output_type": "stream"
        }
      ],
      "execution_count": 55
    },
    {
      "cell_type": "code",
      "source": "",
      "metadata": {
        "trusted": true
      },
      "outputs": [],
      "execution_count": null
    }
  ]
}